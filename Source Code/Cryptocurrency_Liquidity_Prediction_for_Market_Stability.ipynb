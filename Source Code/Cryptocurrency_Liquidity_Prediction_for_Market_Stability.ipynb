{
 "cells": [
  {
   "cell_type": "markdown",
   "metadata": {
    "id": "AMPbTtqrfE-g"
   },
   "source": [
    "\n",
    "# **Cryptocurrency Liquidity Prediction Project**\n",
    "\n",
    "### Importing necessary libraries:"
   ]
  },
  {
   "cell_type": "code",
   "execution_count": 1,
   "metadata": {
    "id": "LgmDDZsdevpW"
   },
   "outputs": [],
   "source": [
    "import numpy as np\n",
    "import pandas as pd\n",
    "import matplotlib.pyplot as plt\n",
    "import seaborn as sns\n",
    "import warnings\n",
    "warnings.filterwarnings('ignore')"
   ]
  },
  {
   "cell_type": "markdown",
   "metadata": {
    "id": "UjmFf4KifVpg"
   },
   "source": [
    "###**Loading datasets:**"
   ]
  },
  {
   "cell_type": "code",
   "execution_count": 2,
   "metadata": {
    "id": "VgnIkqZdff6-"
   },
   "outputs": [],
   "source": [
    "df1=pd.read_csv('coin_gecko_2022-03-16.csv')"
   ]
  },
  {
   "cell_type": "code",
   "execution_count": 3,
   "metadata": {
    "id": "A8oyvJsTfleZ"
   },
   "outputs": [],
   "source": [
    "df2=pd.read_csv('coin_gecko_2022-03-17.csv')"
   ]
  },
  {
   "cell_type": "markdown",
   "metadata": {
    "id": "ovXsaa6xfp_P"
   },
   "source": [
    "###**Concating or Joining Datasets:**"
   ]
  },
  {
   "cell_type": "code",
   "execution_count": 4,
   "metadata": {
    "id": "jcFQoQrifxZ3"
   },
   "outputs": [],
   "source": [
    "df = pd.concat([df1, df2], ignore_index=True)"
   ]
  },
  {
   "cell_type": "code",
   "execution_count": 5,
   "metadata": {
    "colab": {
     "base_uri": "https://localhost:8080/"
    },
    "id": "yfKY3TDXf3Da",
    "outputId": "0a1d0f69-7255-4874-9852-0abb1fe85fb1"
   },
   "outputs": [
    {
     "name": "stdout",
     "output_type": "stream",
     "text": [
      "       coin symbol         price     1h    24h     7d    24h_volume  \\\n",
      "0   Bitcoin    BTC  40859.460000  0.022  0.030  0.055  3.539076e+10   \n",
      "1  Ethereum    ETH   2744.410000  0.024  0.034  0.065  1.974870e+10   \n",
      "2    Tether   USDT      1.000000 -0.001 -0.001  0.000  5.793497e+10   \n",
      "3       BNB    BNB    383.430000  0.018  0.028  0.004  1.395854e+09   \n",
      "4  USD Coin   USDC      0.999874 -0.001  0.000 -0.000  3.872274e+09   \n",
      "\n",
      "        mkt_cap        date  \n",
      "0  7.709915e+11  2022-03-16  \n",
      "1  3.271044e+11  2022-03-16  \n",
      "2  7.996516e+10  2022-03-16  \n",
      "3  6.404382e+10  2022-03-16  \n",
      "4  5.222214e+10  2022-03-16  \n"
     ]
    }
   ],
   "source": [
    "print(df.head())"
   ]
  },
  {
   "cell_type": "code",
   "execution_count": 6,
   "metadata": {
    "colab": {
     "base_uri": "https://localhost:8080/"
    },
    "id": "CdkEIxFOf-6o",
    "outputId": "16c1f76c-5677-4509-a583-137a774b175c"
   },
   "outputs": [
    {
     "name": "stdout",
     "output_type": "stream",
     "text": [
      "<class 'pandas.core.frame.DataFrame'>\n",
      "RangeIndex: 1000 entries, 0 to 999\n",
      "Data columns (total 9 columns):\n",
      " #   Column      Non-Null Count  Dtype  \n",
      "---  ------      --------------  -----  \n",
      " 0   coin        1000 non-null   object \n",
      " 1   symbol      1000 non-null   object \n",
      " 2   price       1000 non-null   float64\n",
      " 3   1h          993 non-null    float64\n",
      " 4   24h         993 non-null    float64\n",
      " 5   7d          992 non-null    float64\n",
      " 6   24h_volume  993 non-null    float64\n",
      " 7   mkt_cap     1000 non-null   float64\n",
      " 8   date        1000 non-null   object \n",
      "dtypes: float64(6), object(3)\n",
      "memory usage: 70.4+ KB\n",
      "None\n"
     ]
    }
   ],
   "source": [
    "print(df.info())"
   ]
  },
  {
   "cell_type": "markdown",
   "metadata": {
    "id": "OqyDIbQfgtP7"
   },
   "source": [
    "###**Handling Missing Values:**"
   ]
  },
  {
   "cell_type": "code",
   "execution_count": 7,
   "metadata": {
    "colab": {
     "base_uri": "https://localhost:8080/"
    },
    "id": "dMRM83AzgxHY",
    "outputId": "7cb71f7f-9e4e-4e34-9630-dc1379694297"
   },
   "outputs": [
    {
     "name": "stdout",
     "output_type": "stream",
     "text": [
      "coin          0\n",
      "symbol        0\n",
      "price         0\n",
      "1h            7\n",
      "24h           7\n",
      "7d            8\n",
      "24h_volume    7\n",
      "mkt_cap       0\n",
      "date          0\n",
      "dtype: int64\n"
     ]
    }
   ],
   "source": [
    "print(df.isnull().sum())"
   ]
  },
  {
   "cell_type": "markdown",
   "metadata": {
    "id": "BhujaBawg5Gn"
   },
   "source": [
    "###**Dropping Missing Values:**"
   ]
  },
  {
   "cell_type": "code",
   "execution_count": 8,
   "metadata": {
    "colab": {
     "base_uri": "https://localhost:8080/"
    },
    "id": "Qx-VypyHg_q_",
    "outputId": "8a2a2f27-6357-421b-be9a-7a7c5edcd1fc"
   },
   "outputs": [
    {
     "name": "stdout",
     "output_type": "stream",
     "text": [
      "After dropping missing values: (992, 9)\n"
     ]
    }
   ],
   "source": [
    "df.dropna(inplace=True)\n",
    "print(\"After dropping missing values:\", df.shape)"
   ]
  },
  {
   "cell_type": "markdown",
   "metadata": {
    "id": "hmvpniYbhhDl"
   },
   "source": [
    "###**Converting The 'date' column to datetime format:**"
   ]
  },
  {
   "cell_type": "code",
   "execution_count": 9,
   "metadata": {
    "colab": {
     "base_uri": "https://localhost:8080/"
    },
    "id": "ZGE4qRDjhk8v",
    "outputId": "0939ada1-1636-48b8-d642-3c3f941c4e28"
   },
   "outputs": [
    {
     "name": "stdout",
     "output_type": "stream",
     "text": [
      "coin                  object\n",
      "symbol                object\n",
      "price                float64\n",
      "1h                   float64\n",
      "24h                  float64\n",
      "7d                   float64\n",
      "24h_volume           float64\n",
      "mkt_cap              float64\n",
      "date          datetime64[ns]\n",
      "dtype: object\n"
     ]
    }
   ],
   "source": [
    "df['date'] = pd.to_datetime(df['date'])\n",
    "print(df.dtypes)"
   ]
  },
  {
   "cell_type": "markdown",
   "metadata": {
    "id": "t6_bbbc7h2ID"
   },
   "source": [
    "###**Checking for Duplicates:**"
   ]
  },
  {
   "cell_type": "code",
   "execution_count": 10,
   "metadata": {
    "colab": {
     "base_uri": "https://localhost:8080/"
    },
    "id": "qrfxjPqch5iy",
    "outputId": "f65e7d34-1f34-4f6c-e972-4f9e21450d9d"
   },
   "outputs": [
    {
     "name": "stdout",
     "output_type": "stream",
     "text": [
      "Duplicates: 0\n"
     ]
    }
   ],
   "source": [
    "print(\"Duplicates:\", df.duplicated().sum())"
   ]
  },
  {
   "cell_type": "markdown",
   "metadata": {
    "id": "W8BIz3p5iDbR"
   },
   "source": [
    "#**EDA**\n",
    "\n",
    "**Summary Statistics:**"
   ]
  },
  {
   "cell_type": "code",
   "execution_count": 11,
   "metadata": {
    "colab": {
     "base_uri": "https://localhost:8080/",
     "height": 300
    },
    "id": "vk_UNAPaiLda",
    "outputId": "4b8f413b-e666-4f2a-97fd-3130039e4c85"
   },
   "outputs": [
    {
     "data": {
      "text/html": [
       "<div>\n",
       "<style scoped>\n",
       "    .dataframe tbody tr th:only-of-type {\n",
       "        vertical-align: middle;\n",
       "    }\n",
       "\n",
       "    .dataframe tbody tr th {\n",
       "        vertical-align: top;\n",
       "    }\n",
       "\n",
       "    .dataframe thead th {\n",
       "        text-align: right;\n",
       "    }\n",
       "</style>\n",
       "<table border=\"1\" class=\"dataframe\">\n",
       "  <thead>\n",
       "    <tr style=\"text-align: right;\">\n",
       "      <th></th>\n",
       "      <th>price</th>\n",
       "      <th>1h</th>\n",
       "      <th>24h</th>\n",
       "      <th>7d</th>\n",
       "      <th>24h_volume</th>\n",
       "      <th>mkt_cap</th>\n",
       "      <th>date</th>\n",
       "    </tr>\n",
       "  </thead>\n",
       "  <tbody>\n",
       "    <tr>\n",
       "      <th>count</th>\n",
       "      <td>9.920000e+02</td>\n",
       "      <td>992.000000</td>\n",
       "      <td>992.000000</td>\n",
       "      <td>992.000000</td>\n",
       "      <td>9.920000e+02</td>\n",
       "      <td>9.920000e+02</td>\n",
       "      <td>992</td>\n",
       "    </tr>\n",
       "    <tr>\n",
       "      <th>mean</th>\n",
       "      <td>6.200521e+02</td>\n",
       "      <td>0.009682</td>\n",
       "      <td>0.024018</td>\n",
       "      <td>0.023558</td>\n",
       "      <td>2.884638e+08</td>\n",
       "      <td>3.783951e+09</td>\n",
       "      <td>2022-03-16 11:58:32.903225856</td>\n",
       "    </tr>\n",
       "    <tr>\n",
       "      <th>min</th>\n",
       "      <td>1.484000e-09</td>\n",
       "      <td>-0.704000</td>\n",
       "      <td>-0.646000</td>\n",
       "      <td>-0.558000</td>\n",
       "      <td>0.000000e+00</td>\n",
       "      <td>6.577043e+07</td>\n",
       "      <td>2022-03-16 00:00:00</td>\n",
       "    </tr>\n",
       "    <tr>\n",
       "      <th>25%</th>\n",
       "      <td>1.940547e-01</td>\n",
       "      <td>0.001000</td>\n",
       "      <td>0.001000</td>\n",
       "      <td>-0.041000</td>\n",
       "      <td>1.764198e+06</td>\n",
       "      <td>1.158501e+08</td>\n",
       "      <td>2022-03-16 00:00:00</td>\n",
       "    </tr>\n",
       "    <tr>\n",
       "      <th>50%</th>\n",
       "      <td>1.095000e+00</td>\n",
       "      <td>0.006000</td>\n",
       "      <td>0.016000</td>\n",
       "      <td>-0.000500</td>\n",
       "      <td>8.328741e+06</td>\n",
       "      <td>2.131953e+08</td>\n",
       "      <td>2022-03-16 00:00:00</td>\n",
       "    </tr>\n",
       "    <tr>\n",
       "      <th>75%</th>\n",
       "      <td>6.955000e+00</td>\n",
       "      <td>0.019000</td>\n",
       "      <td>0.035000</td>\n",
       "      <td>0.037000</td>\n",
       "      <td>3.947222e+07</td>\n",
       "      <td>5.972493e+08</td>\n",
       "      <td>2022-03-17 00:00:00</td>\n",
       "    </tr>\n",
       "    <tr>\n",
       "      <th>max</th>\n",
       "      <td>4.121727e+04</td>\n",
       "      <td>0.095000</td>\n",
       "      <td>0.577000</td>\n",
       "      <td>4.608000</td>\n",
       "      <td>5.793497e+10</td>\n",
       "      <td>7.760774e+11</td>\n",
       "      <td>2022-03-17 00:00:00</td>\n",
       "    </tr>\n",
       "    <tr>\n",
       "      <th>std</th>\n",
       "      <td>4.421998e+03</td>\n",
       "      <td>0.026917</td>\n",
       "      <td>0.058668</td>\n",
       "      <td>0.229781</td>\n",
       "      <td>2.771176e+09</td>\n",
       "      <td>3.818970e+10</td>\n",
       "      <td>NaN</td>\n",
       "    </tr>\n",
       "  </tbody>\n",
       "</table>\n",
       "</div>"
      ],
      "text/plain": [
       "              price          1h         24h          7d    24h_volume  \\\n",
       "count  9.920000e+02  992.000000  992.000000  992.000000  9.920000e+02   \n",
       "mean   6.200521e+02    0.009682    0.024018    0.023558  2.884638e+08   \n",
       "min    1.484000e-09   -0.704000   -0.646000   -0.558000  0.000000e+00   \n",
       "25%    1.940547e-01    0.001000    0.001000   -0.041000  1.764198e+06   \n",
       "50%    1.095000e+00    0.006000    0.016000   -0.000500  8.328741e+06   \n",
       "75%    6.955000e+00    0.019000    0.035000    0.037000  3.947222e+07   \n",
       "max    4.121727e+04    0.095000    0.577000    4.608000  5.793497e+10   \n",
       "std    4.421998e+03    0.026917    0.058668    0.229781  2.771176e+09   \n",
       "\n",
       "            mkt_cap                           date  \n",
       "count  9.920000e+02                            992  \n",
       "mean   3.783951e+09  2022-03-16 11:58:32.903225856  \n",
       "min    6.577043e+07            2022-03-16 00:00:00  \n",
       "25%    1.158501e+08            2022-03-16 00:00:00  \n",
       "50%    2.131953e+08            2022-03-16 00:00:00  \n",
       "75%    5.972493e+08            2022-03-17 00:00:00  \n",
       "max    7.760774e+11            2022-03-17 00:00:00  \n",
       "std    3.818970e+10                            NaN  "
      ]
     },
     "execution_count": 11,
     "metadata": {},
     "output_type": "execute_result"
    }
   ],
   "source": [
    "df.describe()"
   ]
  },
  {
   "cell_type": "markdown",
   "metadata": {
    "id": "ezPLiJxQijX3"
   },
   "source": [
    "####**What I observed from the summary:**\n",
    "\n",
    "1.Some coins are really cheap, and some are super expensive (like over $40,000).\n",
    "\n",
    "2.The amount of money traded (volume) and total value (market cap) is very different for each coin.\n",
    "\n",
    "3.Some coins went up and some went down in the last hour, day, and week.\n",
    "\n",
    "4.The data is only from two days: March 16 and 17, 2022."
   ]
  },
  {
   "cell_type": "markdown",
   "metadata": {
    "id": "rjtZFCoGiuA9"
   },
   "source": [
    "#✅Correlation Heatmap:\n",
    "\n",
    "**This helps us to understand which numbers are connected (like: does price go up when market cap goes up?).**"
   ]
  },
  {
   "cell_type": "code",
   "execution_count": 12,
   "metadata": {
    "colab": {
     "base_uri": "https://localhost:8080/",
     "height": 545
    },
    "id": "rLvnMMvoi7s7",
    "outputId": "e2f7c526-ed54-4da8-fd15-4fb3825b904c"
   },
   "outputs": [
    {
     "data": {
      "image/png": "[encoded data removed]",
      "text/plain": [
       "<Figure size 1000x600 with 2 Axes>"
      ]
     },
     "metadata": {},
     "output_type": "display_data"
    }
   ],
   "source": [
    "numeric_df = df.select_dtypes(include=['float64', 'int64'])\n",
    "\n",
    "plt.figure(figsize=(10, 6))\n",
    "sns.heatmap(numeric_df.corr(), annot=True, cmap='coolwarm')\n",
    "plt.title(\"Correlation Between Numeric Features\")\n",
    "plt.show()"
   ]
  },
  {
   "cell_type": "markdown",
   "metadata": {
    "id": "PBuXJFXajEcj"
   },
   "source": [
    "####**What I noticed from the heatmap:**\n",
    "\n",
    "1. Price and market cap are very strongly connected — when price goes up, market cap also goes up.\n",
    "\n",
    "2. 24h trading volume is also connected with market cap.\n",
    "\n",
    "3. 1h, 24h, and 7d changes are not strongly connected to price or volume.\n",
    "\n",
    "4. Some features are closely related, and some are not much related."
   ]
  },
  {
   "cell_type": "markdown",
   "metadata": {
    "id": "qlQJR9bcjfEF"
   },
   "source": [
    "###**Visualizing Price Over Time (Bitcoin example):**"
   ]
  },
  {
   "cell_type": "code",
   "execution_count": 13,
   "metadata": {
    "colab": {
     "base_uri": "https://localhost:8080/",
     "height": 487
    },
    "id": "rF8YK5sPjn3-",
    "outputId": "23dd8288-19f0-4dcf-986c-0636cfc7d6d9"
   },
   "outputs": [
    {
     "data": {
      "image/png": "[encoded data removed]",
      "text/plain": [
       "<Figure size 1000x500 with 1 Axes>"
      ]
     },
     "metadata": {},
     "output_type": "display_data"
    }
   ],
   "source": [
    "btc_df = df[df['coin'] == 'Bitcoin']\n",
    "\n",
    "plt.figure(figsize=(10, 5))\n",
    "plt.plot(btc_df['date'], btc_df['price'], marker='o')\n",
    "plt.title(\"Bitcoin Price Over Time\")\n",
    "plt.xlabel(\"Date\")\n",
    "plt.ylabel(\"Price (USD)\")\n",
    "plt.grid(True)\n",
    "plt.show()"
   ]
  },
  {
   "cell_type": "markdown",
   "metadata": {
    "id": "8VVCRnw9jxgH"
   },
   "source": [
    "### **What i Noticed from this Graph:**\n",
    "\n",
    "* Bitcoin’s price movement over two days looks slightly up/down.\n",
    "\n",
    "* With more days of data, we can see better price trends.\n",
    "\n",
    "* Visualizing price vs time helps us detect sudden changes easily.\n",
    "\n",
    "##**Feature Engineering:**\n",
    "\n",
    "**What is Feature Engineering?**\n",
    "\n",
    " Ans:It means creating new columns (features) from old columns and New features help the model learn better and predict better."
   ]
  },
  {
   "cell_type": "markdown",
   "metadata": {
    "id": "-IYnLqBfkPrx"
   },
   "source": [
    "###🛠 **Creating Moving Averages:**"
   ]
  },
  {
   "cell_type": "code",
   "execution_count": 14,
   "metadata": {
    "colab": {
     "base_uri": "https://localhost:8080/"
    },
    "id": "7fqPSTjPkpAb",
    "outputId": "89738288-263e-43d6-d0a8-386ee8e33f46"
   },
   "outputs": [
    {
     "name": "stdout",
     "output_type": "stream",
     "text": [
      "            price   price_ma_2       mkt_cap  mkt_cap_ma_2\n",
      "0    4.085946e+04          NaN  7.709915e+11           NaN\n",
      "340  7.960000e+00  20433.71000  1.302007e+08  3.855608e+11\n",
      "339  2.949200e-01      4.12746  1.327759e+08  1.314883e+08\n",
      "338  3.051000e-09      0.14746  1.329136e+08  1.328448e+08\n",
      "337  1.010000e+00      0.50500  1.329540e+08  1.329338e+08\n"
     ]
    }
   ],
   "source": [
    "# Sort by date first (important for moving average)\n",
    "df = df.sort_values('date')\n",
    "\n",
    "# Create a 2-day moving average of price\n",
    "df['price_ma_2'] = df['price'].rolling(window=2).mean()\n",
    "\n",
    "# Create a 2-day moving average of market cap\n",
    "df['mkt_cap_ma_2'] = df['mkt_cap'].rolling(window=2).mean()\n",
    "\n",
    "print(df[['price', 'price_ma_2', 'mkt_cap', 'mkt_cap_ma_2']].head())"
   ]
  },
  {
   "cell_type": "markdown",
   "metadata": {
    "id": "zZfAxu-KkuzW"
   },
   "source": [
    "**We have created moving averages to make price and market cap trends smoother and easier for the model to understand.**\n",
    "\n",
    "###🛠 **Creating Volatility Feature:**"
   ]
  },
  {
   "cell_type": "code",
   "execution_count": 15,
   "metadata": {
    "colab": {
     "base_uri": "https://localhost:8080/"
    },
    "id": "Jj-e00BGk4Bz",
    "outputId": "0c6dc1e6-bcbb-4c26-feca-0fb4106323ce"
   },
   "outputs": [
    {
     "name": "stdout",
     "output_type": "stream",
     "text": [
      "        1h    24h  volatility\n",
      "0    0.022  0.030       0.008\n",
      "340  0.017  0.008       0.009\n",
      "339  0.023  0.010       0.013\n",
      "338  0.012 -0.005       0.017\n",
      "337  0.001  0.000       0.001\n"
     ]
    }
   ],
   "source": [
    "# Calculate simple volatility as absolute change between 24h and 1h returns\n",
    "df['volatility'] = (df['24h'] - df['1h']).abs()\n",
    "\n",
    "print(df[['1h', '24h', 'volatility']].head())\n"
   ]
  },
  {
   "cell_type": "markdown",
   "metadata": {
    "id": "-h0Lut-ak9Mf"
   },
   "source": [
    "####**Observation from Volatility🧠:**\n",
    "\n",
    "I have created a new feature called volatility, which measures how much the price changes between 1-hour and 24-hour returns. It shows how stable or risky the coin is. A higher volatility means bigger price movements and more risk."
   ]
  },
  {
   "cell_type": "markdown",
   "metadata": {
    "id": "5xzvKsHilMpp"
   },
   "source": [
    "###**🛠 Creating Liquidity Ratio:**"
   ]
  },
  {
   "cell_type": "code",
   "execution_count": 16,
   "metadata": {
    "colab": {
     "base_uri": "https://localhost:8080/"
    },
    "id": "rEdSUkgVlmZg",
    "outputId": "b6c426c8-b3ad-4b2b-d635-aab3d0b49d5b"
   },
   "outputs": [
    {
     "name": "stdout",
     "output_type": "stream",
     "text": [
      "       24h_volume       mkt_cap  liquidity_ratio\n",
      "0    3.539076e+10  7.709915e+11         0.045903\n",
      "340  1.069360e+06  1.302007e+08         0.008213\n",
      "339  3.041720e+03  1.327759e+08         0.000023\n",
      "338  1.894020e+05  1.329136e+08         0.001425\n",
      "337  1.793090e+05  1.329540e+08         0.001349\n"
     ]
    }
   ],
   "source": [
    "# Create liquidity ratio\n",
    "df['liquidity_ratio'] = df['24h_volume'] / df['mkt_cap']\n",
    "\n",
    "print(df[['24h_volume', 'mkt_cap', 'liquidity_ratio']].head())"
   ]
  },
  {
   "cell_type": "markdown",
   "metadata": {
    "id": "XtWiMyZOloKW"
   },
   "source": [
    "### **Observation from Liquidity Ratio🧠:**\n",
    "\n",
    "I have created a new feature called liquidity ratio, which shows how much trading is happening compared to the total size of the coin. A higher liquidity ratio means the coin is actively traded and easier to buy or sell."
   ]
  },
  {
   "cell_type": "markdown",
   "metadata": {
    "id": "QkoJUtzxl1lR"
   },
   "source": [
    "#**Model Selection:**\n",
    "\n",
    "###**Choosing the Model:**\n",
    "\n",
    "* We want to predict a number (liquidity ratio), not a category like \"yes\" or \"no\". When we predict numbers, we should use a regression model.\n",
    "\n",
    "* The easiest and most basic model for this is Linear Regression. It draws a straight line that best fits the data points.\n",
    "\n",
    "* I will first use Linear Regression to keep things simple. Later, if we want even better results, we can try stronger models like Random Forest or XGBoost, but for now, Linear Regression is the perfect one.\n",
    "\n",
    "####**Preparing Data Model for Training:**"
   ]
  },
  {
   "cell_type": "code",
   "execution_count": 17,
   "metadata": {
    "colab": {
     "base_uri": "https://localhost:8080/"
    },
    "id": "TqH_S2EtmJkV",
    "outputId": "b057235f-a44d-4cc8-aa83-4ed8527dae10"
   },
   "outputs": [
    {
     "name": "stdout",
     "output_type": "stream",
     "text": [
      "Training set size: (793, 4)\n",
      "Testing set size: (199, 4)\n"
     ]
    }
   ],
   "source": [
    "# importing the tool to split data\n",
    "from sklearn.model_selection import train_test_split\n",
    "\n",
    "# Choosing input features (X) and target output (y)\n",
    "X = df[['price', '24h_volume', 'mkt_cap', 'volatility']]\n",
    "y = df['liquidity_ratio']\n",
    "\n",
    "# Spliting into 80% training and 20% testing\n",
    "X_train, X_test, y_train, y_test = train_test_split(X, y, test_size=0.2, random_state=42)\n",
    "\n",
    "print(\"Training set size:\", X_train.shape)\n",
    "print(\"Testing set size:\", X_test.shape)"
   ]
  },
  {
   "cell_type": "markdown",
   "metadata": {
    "id": "JoblpkrOmSaO"
   },
   "source": [
    "###**Training the model:**"
   ]
  },
  {
   "cell_type": "code",
   "execution_count": 18,
   "metadata": {
    "colab": {
     "base_uri": "https://localhost:8080/"
    },
    "id": "IbaVFr6dmXj6",
    "outputId": "57997132-f00d-4f3b-f966-b02afa3f128d"
   },
   "outputs": [
    {
     "name": "stdout",
     "output_type": "stream",
     "text": [
      "Model training completed!\n"
     ]
    }
   ],
   "source": [
    "# Import Linear Regression model\n",
    "from sklearn.linear_model import LinearRegression\n",
    "\n",
    "# Create the model\n",
    "model = LinearRegression()\n",
    "\n",
    "# Train the model using the training data\n",
    "model.fit(X_train, y_train)\n",
    "\n",
    "print(\"Model training completed!\")"
   ]
  },
  {
   "cell_type": "markdown",
   "metadata": {
    "id": "-34Fj-2omcR_"
   },
   "source": [
    "###**Model Evaluation:**"
   ]
  },
  {
   "cell_type": "code",
   "execution_count": 19,
   "metadata": {
    "colab": {
     "base_uri": "https://localhost:8080/"
    },
    "id": "zueLfgg_miD5",
    "outputId": "296d9a88-b769-40b1-8a83-d7a9adcba019"
   },
   "outputs": [
    {
     "name": "stdout",
     "output_type": "stream",
     "text": [
      "Root Mean Squared Error (RMSE): 0.34370980165574133\n",
      "Mean Absolute Error (MAE): 0.11763151643432349\n",
      "R² Score: -0.055077186022793656\n"
     ]
    }
   ],
   "source": [
    "# Import evaluation metrics\n",
    "from sklearn.metrics import mean_squared_error, mean_absolute_error, r2_score\n",
    "import numpy as np\n",
    "\n",
    "# Predict on the test set\n",
    "y_pred = model.predict(X_test)\n",
    "\n",
    "# Calculate evaluation metrics\n",
    "rmse = np.sqrt(mean_squared_error(y_test, y_pred))\n",
    "mae = mean_absolute_error(y_test, y_pred)\n",
    "r2 = r2_score(y_test, y_pred)\n",
    "\n",
    "print(f\"Root Mean Squared Error (RMSE): {rmse}\")\n",
    "print(f\"Mean Absolute Error (MAE): {mae}\")\n",
    "print(f\"R² Score: {r2}\")"
   ]
  },
  {
   "cell_type": "markdown",
   "metadata": {
    "id": "LtfNyk8pmmyf"
   },
   "source": [
    "**Observation:**\n",
    "\n",
    "* Model is working but not predicting very well.\n",
    "\n",
    "* Errors are a bit high.\n",
    "\n",
    "* R² Score is negative, meaning model is not learning properly.\n",
    "\n",
    "* We need to improve it by making the model better."
   ]
  },
  {
   "cell_type": "markdown",
   "metadata": {
    "id": "SWFwZGJkmyZe"
   },
   "source": [
    "####**Hyperparameter Tuning**"
   ]
  },
  {
   "cell_type": "code",
   "execution_count": 20,
   "metadata": {
    "colab": {
     "base_uri": "https://localhost:8080/"
    },
    "id": "RmcW_TQ7m33G",
    "outputId": "0d704e28-3d6f-498e-efbb-26ca769a7599"
   },
   "outputs": [
    {
     "name": "stdout",
     "output_type": "stream",
     "text": [
      "Best Parameters Found: {'max_depth': 5, 'n_estimators': 150}\n"
     ]
    }
   ],
   "source": [
    "from sklearn.model_selection import GridSearchCV\n",
    "\n",
    "# Define the model\n",
    "from sklearn.ensemble import RandomForestRegressor\n",
    "model = RandomForestRegressor(random_state=42)\n",
    "\n",
    "# Define parameter grid (different settings we want to try)\n",
    "param_grid = {\n",
    "    'n_estimators': [50, 100, 150],\n",
    "    'max_depth': [5, 10, 15]\n",
    "}\n",
    "\n",
    "# Set up GridSearch\n",
    "grid_search = GridSearchCV(estimator=model, param_grid=param_grid,\n",
    "                           cv=3, n_jobs=-1, scoring='r2')\n",
    "\n",
    "# Fit to training data\n",
    "grid_search.fit(X_train, y_train)\n",
    "\n",
    "# Best parameters\n",
    "print(\"Best Parameters Found:\", grid_search.best_params_)"
   ]
  },
  {
   "cell_type": "markdown",
   "metadata": {
    "id": "Rt8I-3uInSFQ"
   },
   "source": [
    "####**Training model again with best parameters:**"
   ]
  },
  {
   "cell_type": "code",
   "execution_count": 21,
   "metadata": {
    "colab": {
     "base_uri": "https://localhost:8080/"
    },
    "id": "QryjKCQKnZZL",
    "outputId": "738d4934-6cac-43b6-9264-6edb543cf2f9"
   },
   "outputs": [
    {
     "name": "stdout",
     "output_type": "stream",
     "text": [
      "New RMSE: 0.11686800018856748\n",
      "New MAE: 0.03412938555724248\n",
      "New R² Score: 0.8780191590396578\n"
     ]
    }
   ],
   "source": [
    "# Train the model again using the best parameters\n",
    "best_model = RandomForestRegressor(max_depth=5, n_estimators=150, random_state=42)\n",
    "\n",
    "# Fit on training data\n",
    "best_model.fit(X_train, y_train)\n",
    "\n",
    "# Predict again\n",
    "y_pred_best = best_model.predict(X_test)\n",
    "\n",
    "# Evaluate again\n",
    "rmse_best = np.sqrt(mean_squared_error(y_test, y_pred_best))\n",
    "mae_best = mean_absolute_error(y_test, y_pred_best)\n",
    "r2_best = r2_score(y_test, y_pred_best)\n",
    "\n",
    "print(f\"New RMSE: {rmse_best}\")\n",
    "print(f\"New MAE: {mae_best}\")\n",
    "print(f\"New R² Score: {r2_best}\")"
   ]
  },
  {
   "cell_type": "markdown",
   "metadata": {
    "id": "WZlVhsX0nca7"
   },
   "source": [
    "**Observation**: After tuning the model, the errors became much smaller and the accuracy became much better. Now, the model can predict liquidity quite correctly."
   ]
  },
  {
   "cell_type": "markdown",
   "metadata": {
    "id": "JILCmWeJnjIz"
   },
   "source": [
    "####**Testing the model on unseen (test) data and watching some predictions:**"
   ]
  },
  {
   "cell_type": "code",
   "execution_count": 22,
   "metadata": {
    "colab": {
     "base_uri": "https://localhost:8080/"
    },
    "id": "_g_A_qg3now9",
    "outputId": "48a95583-5f4a-400a-e15d-3a31ffe5693a"
   },
   "outputs": [
    {
     "name": "stdout",
     "output_type": "stream",
     "text": [
      "     Actual Liquidity  Predicted Liquidity\n",
      "376          0.120092             0.849204\n",
      "8            0.036105             0.131864\n",
      "834          0.064324             0.075432\n",
      "62           0.153632             0.116592\n",
      "252          0.010830             0.012223\n",
      "864          0.569074             0.570640\n",
      "94           0.007854             0.025044\n",
      "295          0.007353             0.007169\n",
      "343          0.003577             0.003889\n",
      "839          0.000058             0.003306\n"
     ]
    }
   ],
   "source": [
    "# Predict on test data\n",
    "y_pred_test = best_model.predict(X_test)\n",
    "\n",
    "# Compare some real vs predicted values\n",
    "comparison = pd.DataFrame({'Actual Liquidity': y_test, 'Predicted Liquidity': y_pred_test})\n",
    "print(comparison.head(10))"
   ]
  },
  {
   "cell_type": "markdown",
   "metadata": {
    "id": "0ebxyUvFnsf8"
   },
   "source": [
    "**Observation:** The model's predicted liquidity values are quite close to the actual values for many coins. There are some small differences, but overall the model is doing a good job after tuning. Especially for bigger liquidity values like 0.569074, the prediction (0.570640) is very accurate."
   ]
  },
  {
   "cell_type": "markdown",
   "metadata": {
    "id": "nNst-2HcnzcI"
   },
   "source": [
    "####**Saving the trained model:**"
   ]
  },
  {
   "cell_type": "code",
   "execution_count": 23,
   "metadata": {
    "colab": {
     "base_uri": "https://localhost:8080/"
    },
    "id": "bPU-rJgsn37V",
    "outputId": "cc2a20c3-397b-463a-fa6c-62181c4121e6"
   },
   "outputs": [
    {
     "name": "stdout",
     "output_type": "stream",
     "text": [
      "Model saved successfully.\n"
     ]
    }
   ],
   "source": [
    "import joblib\n",
    "\n",
    "# Save the model to a file\n",
    "joblib.dump(best_model, 'liquidity_prediction_model.pkl')\n",
    "print(\"Model saved successfully.\")"
   ]
  },
  {
   "cell_type": "markdown",
   "metadata": {
    "id": "4PS0_X33n7hv"
   },
   "source": [
    "####**Loading The model:**"
   ]
  },
  {
   "cell_type": "code",
   "execution_count": 24,
   "metadata": {
    "colab": {
     "base_uri": "https://localhost:8080/"
    },
    "id": "UVvJ1OG8oHNJ",
    "outputId": "6be3b283-3e2f-48ef-9089-07a9827ba45e"
   },
   "outputs": [],
   "source": [
    "# Load the model from the file\n",
    "loaded_model = joblib.load('liquidity_prediction_model.pkl')\n",
    "\n",
    "# Test loading by predicting again\n",
    "sample_pred = loaded_model.predict(X_test[:5])\n",
    "print(\"Sample Predictions:\", sample_pred)"
   ]
  },
  {
   "cell_type": "markdown",
   "metadata": {
    "id": "yNhGG-iAoLhY"
   },
   "source": [
    "##**Conclusion:**\n",
    "In this project, we worked on predicting cryptocurrency liquidity to better understand market stability. We started by cleaning and exploring the data, creating new features like moving averages and volatility to capture deeper insights. Then, we built a machine learning model (Random Forest Regressor) to predict liquidity. Initially, the model's performance was not very strong, but after hyperparameter tuning, the accuracy significantly improved, achieving an R² score of 0.87. The final model can now effectively predict how easily a cryptocurrency can be bought or sold in the market."
   ]
  }
 ],
 "metadata": {
  "colab": {
   "provenance": []
  },
  "kernelspec": {
   "display_name": "Python 3 (ipykernel)",
   "language": "python",
   "name": "python3"
  },
  "language_info": {
   "codemirror_mode": {
    "name": "ipython",
    "version": 3
   },
   "file_extension": ".py",
   "mimetype": "text/x-python",
   "name": "python",
   "nbconvert_exporter": "python",
   "pygments_lexer": "ipython3",
   "version": "3.11.7"
  }
 },
 "nbformat": 4,
 "nbformat_minor": 4
}
